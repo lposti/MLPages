{
 "cells": [
  {
   "cell_type": "markdown",
   "id": "edba0c80",
   "metadata": {},
   "source": [
    "# \"Gaussian Processes:\"\n",
    "> \"description\"\n",
    "\n",
    "- toc: true\n",
    "- branch: master\n",
    "- badges: true\n",
    "- comments: true\n",
    "- author: Lorenzo Posti\n",
    "- categories: [gaussian processes, bayesian, jupyter]\n"
   ]
  },
  {
   "cell_type": "markdown",
   "id": "930d3fd2",
   "metadata": {},
   "source": [
    "## How I got interested in Gaussian Processes"
   ]
  },
  {
   "cell_type": "markdown",
   "id": "41cdbe14",
   "metadata": {},
   "source": [
    "A few weeks ago I saw passing on the arXiv a paper by [Aigrain & Foreman-Mackey](https://arxiv.org/abs/2209.08940) which is a review on Gaussian Processes (GPs) with an astrophysical angle - it is actually targeted for astronomical time-series. I had heard a lot of things about GPs before, but I never really had the time nor will to sit down an actually understand what they are about. That changed when I glanced over the review by Aigrain & Foreman-Mackey, as I quickly realised a couple of things that caught my interest.\n",
    "\n",
    "In particular, the thing that struck me the most is their Figure 3. This appears at the end of the first Section of the review, of which about half is dedicated to the explanation of two motivating examples from astronomical time-series analysis - a very smart decision to start the review with these two examples I must say."
   ]
  },
  {
   "cell_type": "code",
   "execution_count": 276,
   "id": "047d380a",
   "metadata": {},
   "outputs": [],
   "source": [
    "#collapse-hide\n",
    "import numpy as np\n",
    "import matplotlib\n",
    "import matplotlib.pylab as plt\n",
    "from mpl_toolkits.axes_grid1 import make_axes_locatable\n",
    "import random\n",
    "import jax\n",
    "import jax.numpy as jnp\n",
    "import jaxopt\n",
    "from functools import partial\n",
    "from tinygp import GaussianProcess, kernels\n",
    "import numpyro\n",
    "import arviz\n",
    "import corner\n",
    "\n",
    "jax.config.update(\"jax_enable_x64\", True)\n",
    "import warnings\n",
    "warnings.filterwarnings('ignore')\n",
    "\n",
    "%config Completer.use_jedi = False\n",
    "%matplotlib inline\n",
    "\n",
    "rng = np.random.default_rng()"
   ]
  },
  {
   "cell_type": "markdown",
   "id": "a5132a64",
   "metadata": {},
   "source": [
    "Define the mathematical functions for the galaxy rotation curves"
   ]
  },
  {
   "cell_type": "code",
   "execution_count": 2,
   "id": "529b8aa7",
   "metadata": {},
   "outputs": [],
   "source": [
    "G, H, Dc = 4.301e-9, 70, 200.\n",
    "\n",
    "def jax_fc(x): return jnp.log(1+x)-x/(1+x)\n",
    "def jax_Vvir(Mh): return jnp.sqrt((Dc*(H)**2/2)**(1./3.) * (G*Mh)**(2./3.))\n",
    "\n",
    "def jax_Rvir(Mh):\n",
    "    rho_hat = 4. / 3. * np.pi * Dc * (3. * (H)**2 / (8. * np.pi * G))\n",
    "    return 1e3 * ((Mh / rho_hat)**(1./3.))\n",
    "\n",
    "def jax_vhalo(params, R):\n",
    "    Mh, cc = 10**params['log_mh'], 10**params['log_c']    \n",
    "    rv = jax_Rvir(Mh)\n",
    "    return jnp.sqrt(jax_Vvir(Mh)**2*rv/R*jax_fc(cc*R/rv)/jax_fc(cc)) "
   ]
  },
  {
   "cell_type": "markdown",
   "id": "357f9e2b",
   "metadata": {},
   "source": [
    "### Generating rotation curve data with independent Gaussian noise"
   ]
  },
  {
   "cell_type": "markdown",
   "id": "5d0f5c6d",
   "metadata": {},
   "source": [
    "Plot a randomly sampled rotation curve with a typical error on each datapoint of 8 km/s"
   ]
  },
  {
   "cell_type": "code",
   "execution_count": 243,
   "id": "9ce893cc",
   "metadata": {},
   "outputs": [
    {
     "data": {
      "image/png": "[encoded data removed]",
      "text/plain": [
       "<Figure size 360x360 with 2 Axes>"
      ]
     },
     "metadata": {
      "needs_background": "light"
     },
     "output_type": "display_data"
    }
   ],
   "source": [
    "size = 40\n",
    "lmh, lc, verr = 12, 0.95, 10.0\n",
    "\n",
    "# generating independent datapoints with Gaussian errors\n",
    "x = np.linspace(0.1, 50, size)\n",
    "y = jax_vhalo({'log_mh':lmh, 'log_c':lc}, x) + rng.normal(loc=0, scale=verr, size=size)\n",
    "\n",
    "fig,ax = plt.subplots(figsize=(5,5), nrows=2, gridspec_kw={'height_ratios':(0.65,0.35)})\n",
    "# rotation curve\n",
    "ax[0].plot(x, jax_vhalo({'log_mh':lmh, 'log_c':lc}, x), '--', c='grey', label='mean')\n",
    "ax[0].errorbar(x, y, yerr=verr, fmt='.', c='k', lw=0.5, label='data')\n",
    "ax[0].legend(loc='lower right')\n",
    "ax[0].set_ylabel('velocity');\n",
    "# residuals\n",
    "ax[1].axhline(y=0, ls='--', c='grey')\n",
    "ax[1].errorbar(x, y-jax_vhalo({'log_mh':lmh, 'log_c':lc}, x), yerr=verr, fmt='.', c='k', lw=0.5)\n",
    "ax[1].set_xlabel('radius')\n",
    "ax[1].set_ylabel('residuals')\n",
    "ax[1].set_ylim(-60,60);"
   ]
  },
  {
   "cell_type": "markdown",
   "id": "7b17b25c",
   "metadata": {},
   "source": [
    "In the simple case plotted above we have generated the points with the implicit assumption that each datapoint was independent from all the others. This is why mathematically we simply added a Gaussian noise term to the median curve when defining `y`. In the residuals plot, the fact that each datapoint is independent becomes apparent since there is no clear trend in the residuals as a function of radius.\n",
    "\n",
    "However, in practice this is rarely the case with astronomical observations, since typically instrumental characteristics of the telescope and physical processes make the measurement of a single datapoint to have a non-negligible dependence on some other datapoints. Most of the times when modelling astrophysical data we do not know precisely if and which measurements are correlated with which others, so it is in our best interest to employ a modelling technique that allows for correlated datapoints, instead of assuming they are independent.\n",
    "This is where GPs come into play."
   ]
  },
  {
   "cell_type": "markdown",
   "id": "59ebde7e",
   "metadata": {},
   "source": [
    "### Generating rotation curve data with correlated noise using GPs"
   ]
  },
  {
   "cell_type": "markdown",
   "id": "3d994fd7",
   "metadata": {},
   "source": [
    "Let's now use GPs to generate a new set of datapoints, but this time they will be correlated to one another. To specify this correlation we need to define a `kernel` or a covariance function which, in the simplest case that we are using here, is a function only of the physical distance of each point (absolute or L1 distance). \n",
    "\n",
    "Kernels that depend only of the distance of points are called *stationary*. A very common kernel function used in GPs is the so-called *radial basis function* or exponential-squared, since $k(x_i, x_j) \\propto \\exp\\left(d_{ij}^2/2s\\right)$, where $d_{ij}=|x_i-x_j|$ is the distance of the two datapoints, while $s\\in\\mathbb{R}$ is a scale parameter.\n",
    "\n",
    "We define the GP as follows using the library [tinygp](https://tinygp.readthedocs.io/en/stable/index.html)."
   ]
  },
  {
   "cell_type": "code",
   "execution_count": 262,
   "id": "55220714",
   "metadata": {},
   "outputs": [],
   "source": [
    "def build_gp(params, x, yerr):\n",
    "    kernel = 10**params['log_amp']*kernels.ExpSquared(10**params['log_scl'], distance=kernels.distance.L1Distance())\n",
    "    return GaussianProcess(kernel, \n",
    "                           x, \n",
    "                           diag=yerr**2, \n",
    "                           mean=partial(jax_vhalo, params)\n",
    "                          )"
   ]
  },
  {
   "cell_type": "markdown",
   "id": "5442364f",
   "metadata": {},
   "source": [
    "This GP has 2 adjustable parameters: an amplitude `log_amp` and a scale `log_scl` (both defined in log). We build the GP by passing it the kernel function, the set of datapoints (just `x`, not the velocity measurements), the measured uncertainty of the measurements, and the mean function that needs to be added to the noise generated by the GP.\n",
    "\n",
    "What the library is doing is just building a full covariance matrix on the dataset `x` using the kernel function provided. The value that we pass on the `diag` argument will be considered as an additional variance to be added to the covariance matrix. "
   ]
  },
  {
   "cell_type": "markdown",
   "id": "963b3120",
   "metadata": {},
   "source": [
    "Let's now initialize a GP with some amplitude and scale parameters and let's sample random datapoints from its covariance matrix."
   ]
  },
  {
   "cell_type": "code",
   "execution_count": 263,
   "id": "cfa8ba3f",
   "metadata": {},
   "outputs": [],
   "source": [
    "params = {'log_mh':lmh, 'log_c':lc,\n",
    "          'log_amp':jnp.log10(300.0), 'log_scl':jnp.log10(5.0)}\n",
    "\n",
    "# initialize the GP and sample from it\n",
    "gp   = build_gp(params, x, verr)\n",
    "# vm   = gp.sample(jax.random.PRNGKey(11))\n",
    "vm   = gp.sample(jax.random.PRNGKey(33))\n",
    "e_vm = np.sqrt(gp.variance)"
   ]
  },
  {
   "cell_type": "markdown",
   "id": "e85f3fff",
   "metadata": {},
   "source": [
    "Here `gp.sample` gets a random realization of y-measurements on the `x`-array. We can define their standard *errorbars* by just taking the variances (i.e. diagonal of the covariance matrix)."
   ]
  },
  {
   "cell_type": "markdown",
   "id": "f782c78b",
   "metadata": {},
   "source": [
    "Just to help out with visualising the GP, let's plot the covariance matrix for this problem."
   ]
  },
  {
   "cell_type": "code",
   "execution_count": 269,
   "id": "2bee2295",
   "metadata": {},
   "outputs": [],
   "source": [
    "def plt_mat(ax, params, x, yerr):\n",
    "\n",
    "    gp = build_gp(params, x, yerr)\n",
    "    \n",
    "    xm1, xm2 = jnp.meshgrid(x,x)\n",
    "    zm = np.zeros_like(xm1.flatten())\n",
    "    for i in range(len(xm1.flatten())):\n",
    "        zm[i]=(gp.kernel.evaluate(xm1.flatten()[i], xm2.flatten()[i]))\n",
    "        \n",
    "    im=ax.matshow(zm.reshape((len(x), len(x))), extent=(x.min(), x.max(), x.max(), x.min()))\n",
    "    divider = make_axes_locatable(ax)\n",
    "    cax = divider.append_axes(\"right\", size=\"5%\", pad=0.05)\n",
    "\n",
    "    plt.colorbar(im, cax=cax)"
   ]
  },
  {
   "cell_type": "code",
   "execution_count": 272,
   "id": "360909af",
   "metadata": {},
   "outputs": [
    {
     "data": {
      "image/png": "[encoded data removed]",
      "text/plain": [
       "<Figure size 432x288 with 2 Axes>"
      ]
     },
     "metadata": {
      "needs_background": "light"
     },
     "output_type": "display_data"
    }
   ],
   "source": [
    "fig,ax = plt.subplots()\n",
    "plt_mat(ax, params, x, verr)"
   ]
  },
  {
   "cell_type": "markdown",
   "id": "99ec7902",
   "metadata": {},
   "source": [
    "Here each point is coloured according to the covariance $k(x_i,x_j)$. It is highest along the diagonal, where $k(x_i,x_i)=300$ km$^2$/s$^2$, implying a standard uncertainty on each data point of $\\sigma=\\sqrt{300+10^2}=20$ km/s, where the term $10^2$ comes from adding the measured uncertainties to the covariance matrix (the `diag` argument in `GaussianProcess`). Given the kernel function and the scale of $5$ that we used in this example, we can see that each datapoint has a significant correlation with all the points closer than ~10."
   ]
  },
  {
   "cell_type": "markdown",
   "id": "304f2dec",
   "metadata": {},
   "source": [
    "Finally, let's plot the sampled rotation curve and its residuals and let's compare them with the uncorrelated case above."
   ]
  },
  {
   "cell_type": "code",
   "execution_count": 264,
   "id": "ab849292",
   "metadata": {},
   "outputs": [
    {
     "data": {
      "image/png": "[encoded data removed]",
      "text/plain": [
       "<Figure size 360x360 with 2 Axes>"
      ]
     },
     "metadata": {
      "needs_background": "light"
     },
     "output_type": "display_data"
    }
   ],
   "source": [
    "fig,ax = plt.subplots(figsize=(5,5), nrows=2, gridspec_kw={'height_ratios':(0.65,0.35)})\n",
    "# rotation curve\n",
    "ax[0].plot(x, jax_vhalo({'log_mh':lmh, 'log_c':lc}, x), '--', c='grey', label='mean')\n",
    "ax[0].errorbar(x, vm, yerr=e_vm, fmt='.', c='C0', lw=0.5, label='data')\n",
    "ax[0].legend(loc='lower right')\n",
    "ax[0].set_ylabel('velocity');\n",
    "# residuals\n",
    "ax[1].axhline(y=0, ls='--', c='grey')\n",
    "ax[1].errorbar(x, vm-jax_vhalo({'log_mh':lmh, 'log_c':lc}, x), yerr=e_vm, fmt='.', c='C0', lw=0.5)\n",
    "ax[1].set_xlabel('radius')\n",
    "ax[1].set_ylabel('residuals')\n",
    "ax[1].set_ylim(-60,60);"
   ]
  },
  {
   "cell_type": "markdown",
   "id": "3145c589",
   "metadata": {},
   "source": [
    "We do see quite a lot of structure in the residuals plot this time! This is in stark contrast to the picture we had when generating datapoints independently. This time each measurements *feels* the influence of the other measurements closer than ~10 in radius, thus the rotation curve starts having significant trends above and below the mean.\n",
    "\n",
    "When fitting the rotation curve these trend can be misinterpreted as signal, instead of just correlated noise, and this can potentially bias our inference on the curve parameters quite significantly. We see below an example of this."
   ]
  },
  {
   "cell_type": "code",
   "execution_count": null,
   "id": "568e918d",
   "metadata": {},
   "outputs": [],
   "source": []
  },
  {
   "cell_type": "markdown",
   "id": "171c8091",
   "metadata": {},
   "source": [
    "### Fitting the rotation curve with or without Gaussian Processes"
   ]
  },
  {
   "cell_type": "markdown",
   "id": "02215345",
   "metadata": {},
   "source": [
    "Let's now consider the rotation curve generated with the GP above, i.e. the blue set of points, and let's build a model to fit it. The model is the same `jax_vhalo` function that we used to generate the data, which has 2 free parameters: a mass `log_mh` and a concentration `log_c`.\n",
    "\n",
    "We fit it using a Bayesian framework and in particular with an MCMC sampler using a standard $\\chi^2$ log-likelihood on the observed datapoints. We impose a uniform prior on `log_mh` and normal prior on `log_c`, whose mean follows the well-known mass-concentration relation of dark matter halos in $\\Lambda$CDM [(Dutton & Maccio' 2014)](https://ui.adsabs.harvard.edu/abs/2014MNRAS.441.3359D/abstract)."
   ]
  },
  {
   "cell_type": "code",
   "execution_count": 265,
   "id": "afd775d8",
   "metadata": {},
   "outputs": [],
   "source": [
    "# radial grid to define the output of the GP\n",
    "r_grid = jnp.linspace(0.1, 60.0, 1000)\n",
    "\n",
    "def model(t, y_err, y, use_gp=False):\n",
    "    \n",
    "    # priors\n",
    "    log_mh = numpyro.sample('log_mh', numpyro.distributions.Uniform(8.0,  14.0)) \n",
    "    log_c  = numpyro.sample('log_c',  numpyro.distributions.Normal(0.905-0.101*(log_mh-12.0), 0.15)) \n",
    "    \n",
    "    # parameters to infer\n",
    "    params = {\n",
    "        \"log_mh\": log_mh,\n",
    "        \"log_c\" : log_c, \n",
    "    }\n",
    "    \n",
    "    if use_gp:\n",
    "        params[\"log_amp\"] = numpyro.sample(\"log_amp\", numpyro.distributions.Normal(1.0, 3.0))\n",
    "        params[\"log_scl\"] = numpyro.sample(\"log_scl\", numpyro.distributions.Normal(0.5, 2.0))\n",
    "        gp = build_gp(params, t, y_err)\n",
    "        numpyro.sample(\"y\", gp.numpyro_dist(), obs=y)\n",
    "        mu = gp.mean_function(r_grid)\n",
    "        numpyro.deterministic(\"mu\", mu)\n",
    "        numpyro.deterministic(\"gp\", gp.condition(y, r_grid, include_mean=False).gp.loc)\n",
    "\n",
    "    else:\n",
    "        numpyro.sample(\"y\", numpyro.distributions.Normal(jax_vhalo(params, t), y_err), obs=y)\n",
    "        numpyro.deterministic(\"mu\", jax_vhalo(params, r_grid))"
   ]
  },
  {
   "cell_type": "code",
   "execution_count": 266,
   "id": "c969417e",
   "metadata": {},
   "outputs": [
    {
     "name": "stderr",
     "output_type": "stream",
     "text": [
      "sample: 100%|████████████████████████████████████████████████████████████████████| 4000/4000 [00:09<00:00, 414.63it/s, 3 steps of size 8.43e-01. acc. prob=0.91]\n",
      "sample: 100%|████████████████████████████████████████████████████████████████████| 4000/4000 [00:05<00:00, 700.79it/s, 3 steps of size 7.96e-01. acc. prob=0.93]\n"
     ]
    },
    {
     "name": "stdout",
     "output_type": "stream",
     "text": [
      "CPU times: user 15.2 s, sys: 282 ms, total: 15.5 s\n",
      "Wall time: 16.1 s\n"
     ]
    },
    {
     "data": {
      "text/html": [
       "<div>\n",
       "<style scoped>\n",
       "    .dataframe tbody tr th:only-of-type {\n",
       "        vertical-align: middle;\n",
       "    }\n",
       "\n",
       "    .dataframe tbody tr th {\n",
       "        vertical-align: top;\n",
       "    }\n",
       "\n",
       "    .dataframe thead th {\n",
       "        text-align: right;\n",
       "    }\n",
       "</style>\n",
       "<table border=\"1\" class=\"dataframe\">\n",
       "  <thead>\n",
       "    <tr style=\"text-align: right;\">\n",
       "      <th></th>\n",
       "      <th>mean</th>\n",
       "      <th>sd</th>\n",
       "      <th>hdi_3%</th>\n",
       "      <th>hdi_97%</th>\n",
       "      <th>mcse_mean</th>\n",
       "      <th>mcse_sd</th>\n",
       "      <th>ess_bulk</th>\n",
       "      <th>ess_tail</th>\n",
       "      <th>r_hat</th>\n",
       "    </tr>\n",
       "  </thead>\n",
       "  <tbody>\n",
       "    <tr>\n",
       "      <th>log_mh</th>\n",
       "      <td>11.897</td>\n",
       "      <td>0.060</td>\n",
       "      <td>11.786</td>\n",
       "      <td>12.009</td>\n",
       "      <td>0.001</td>\n",
       "      <td>0.001</td>\n",
       "      <td>4581.0</td>\n",
       "      <td>3535.0</td>\n",
       "      <td>1.0</td>\n",
       "    </tr>\n",
       "    <tr>\n",
       "      <th>log_c</th>\n",
       "      <td>1.087</td>\n",
       "      <td>0.058</td>\n",
       "      <td>0.983</td>\n",
       "      <td>1.200</td>\n",
       "      <td>0.001</td>\n",
       "      <td>0.001</td>\n",
       "      <td>4758.0</td>\n",
       "      <td>3911.0</td>\n",
       "      <td>1.0</td>\n",
       "    </tr>\n",
       "  </tbody>\n",
       "</table>\n",
       "</div>"
      ],
      "text/plain": [
       "          mean     sd  hdi_3%  hdi_97%  mcse_mean  mcse_sd  ess_bulk  \\\n",
       "log_mh  11.897  0.060  11.786   12.009      0.001    0.001    4581.0   \n",
       "log_c    1.087  0.058   0.983    1.200      0.001    0.001    4758.0   \n",
       "\n",
       "        ess_tail  r_hat  \n",
       "log_mh    3535.0    1.0  \n",
       "log_c     3911.0    1.0  "
      ]
     },
     "execution_count": 266,
     "metadata": {},
     "output_type": "execute_result"
    }
   ],
   "source": [
    "sampler_wn = numpyro.infer.MCMC(\n",
    "    numpyro.infer.NUTS(\n",
    "        model,\n",
    "        dense_mass=True,\n",
    "        target_accept_prob=0.9,\n",
    "        init_strategy=numpyro.infer.init_to_value(values={'log_mh':11.0, 'log_c':1.0}),\n",
    "    ),\n",
    "    num_warmup=1000,\n",
    "    num_samples=3000,\n",
    "    num_chains=2,\n",
    "    progress_bar=True,\n",
    ")\n",
    "%time sampler_wn.run(jax.random.PRNGKey(11), x, e_vm, vm)\n",
    "\n",
    "inf_data_wn = arviz.from_numpyro(sampler_wn)\n",
    "arviz.summary(inf_data_wn, var_names=[\"log_mh\", \"log_c\"])"
   ]
  },
  {
   "cell_type": "code",
   "execution_count": 267,
   "id": "17ab8bbe",
   "metadata": {},
   "outputs": [
    {
     "name": "stderr",
     "output_type": "stream",
     "text": [
      "sample: 100%|███████████████████████████████████████████████████████████████████| 4000/4000 [00:16<00:00, 249.14it/s, 31 steps of size 1.68e-01. acc. prob=0.95]\n",
      "sample: 100%|███████████████████████████████████████████████████████████████████| 4000/4000 [00:10<00:00, 392.12it/s, 15 steps of size 2.34e-01. acc. prob=0.97]\n"
     ]
    },
    {
     "name": "stdout",
     "output_type": "stream",
     "text": [
      "CPU times: user 54.2 s, sys: 948 ms, total: 55.1 s\n",
      "Wall time: 32.2 s\n"
     ]
    },
    {
     "data": {
      "text/html": [
       "<div>\n",
       "<style scoped>\n",
       "    .dataframe tbody tr th:only-of-type {\n",
       "        vertical-align: middle;\n",
       "    }\n",
       "\n",
       "    .dataframe tbody tr th {\n",
       "        vertical-align: top;\n",
       "    }\n",
       "\n",
       "    .dataframe thead th {\n",
       "        text-align: right;\n",
       "    }\n",
       "</style>\n",
       "<table border=\"1\" class=\"dataframe\">\n",
       "  <thead>\n",
       "    <tr style=\"text-align: right;\">\n",
       "      <th></th>\n",
       "      <th>mean</th>\n",
       "      <th>sd</th>\n",
       "      <th>hdi_3%</th>\n",
       "      <th>hdi_97%</th>\n",
       "      <th>mcse_mean</th>\n",
       "      <th>mcse_sd</th>\n",
       "      <th>ess_bulk</th>\n",
       "      <th>ess_tail</th>\n",
       "      <th>r_hat</th>\n",
       "    </tr>\n",
       "  </thead>\n",
       "  <tbody>\n",
       "    <tr>\n",
       "      <th>log_mh</th>\n",
       "      <td>11.966</td>\n",
       "      <td>0.222</td>\n",
       "      <td>11.593</td>\n",
       "      <td>12.428</td>\n",
       "      <td>0.006</td>\n",
       "      <td>0.004</td>\n",
       "      <td>1825.0</td>\n",
       "      <td>1669.0</td>\n",
       "      <td>1.0</td>\n",
       "    </tr>\n",
       "    <tr>\n",
       "      <th>log_c</th>\n",
       "      <td>0.993</td>\n",
       "      <td>0.136</td>\n",
       "      <td>0.742</td>\n",
       "      <td>1.258</td>\n",
       "      <td>0.003</td>\n",
       "      <td>0.002</td>\n",
       "      <td>1885.0</td>\n",
       "      <td>2479.0</td>\n",
       "      <td>1.0</td>\n",
       "    </tr>\n",
       "    <tr>\n",
       "      <th>log_amp</th>\n",
       "      <td>2.698</td>\n",
       "      <td>0.525</td>\n",
       "      <td>1.945</td>\n",
       "      <td>3.593</td>\n",
       "      <td>0.023</td>\n",
       "      <td>0.016</td>\n",
       "      <td>1418.0</td>\n",
       "      <td>949.0</td>\n",
       "      <td>1.0</td>\n",
       "    </tr>\n",
       "    <tr>\n",
       "      <th>log_scl</th>\n",
       "      <td>0.822</td>\n",
       "      <td>0.244</td>\n",
       "      <td>0.540</td>\n",
       "      <td>1.126</td>\n",
       "      <td>0.009</td>\n",
       "      <td>0.007</td>\n",
       "      <td>2107.0</td>\n",
       "      <td>1848.0</td>\n",
       "      <td>1.0</td>\n",
       "    </tr>\n",
       "  </tbody>\n",
       "</table>\n",
       "</div>"
      ],
      "text/plain": [
       "           mean     sd  hdi_3%  hdi_97%  mcse_mean  mcse_sd  ess_bulk  \\\n",
       "log_mh   11.966  0.222  11.593   12.428      0.006    0.004    1825.0   \n",
       "log_c     0.993  0.136   0.742    1.258      0.003    0.002    1885.0   \n",
       "log_amp   2.698  0.525   1.945    3.593      0.023    0.016    1418.0   \n",
       "log_scl   0.822  0.244   0.540    1.126      0.009    0.007    2107.0   \n",
       "\n",
       "         ess_tail  r_hat  \n",
       "log_mh     1669.0    1.0  \n",
       "log_c      2479.0    1.0  \n",
       "log_amp     949.0    1.0  \n",
       "log_scl    1848.0    1.0  "
      ]
     },
     "execution_count": 267,
     "metadata": {},
     "output_type": "execute_result"
    }
   ],
   "source": [
    "sampler = numpyro.infer.MCMC(\n",
    "    numpyro.infer.NUTS(\n",
    "        model,\n",
    "        dense_mass=True,\n",
    "        target_accept_prob=0.9,\n",
    "        init_strategy=numpyro.infer.init_to_value(values={'log_mh':11.0, 'log_c':1.0, \n",
    "                                                          'log_amp':1.0, 'log_scl':0.5\n",
    "                                                         }),\n",
    "    ),\n",
    "    num_warmup=1000,\n",
    "    num_samples=3000,\n",
    "    num_chains=2,\n",
    "    progress_bar=True,\n",
    ")\n",
    "%time sampler.run(jax.random.PRNGKey(11), x, e_vm, vm, use_gp=True)\n",
    "\n",
    "inf_data = arviz.from_numpyro(sampler)\n",
    "arviz.summary(inf_data, var_names=[\"log_mh\", \"log_c\", \"log_amp\", \"log_scl\"])"
   ]
  },
  {
   "cell_type": "code",
   "execution_count": 283,
   "id": "8c409d65",
   "metadata": {},
   "outputs": [
    {
     "data": {
      "text/plain": [
       "<matplotlib.legend.Legend at 0x7f94fc5a4f10>"
      ]
     },
     "execution_count": 283,
     "metadata": {},
     "output_type": "execute_result"
    },
    {
     "data": {
      "image/png": "[encoded data removed]",
      "text/plain": [
       "<Figure size 396x396 with 4 Axes>"
      ]
     },
     "metadata": {
      "needs_background": "light"
     },
     "output_type": "display_data"
    }
   ],
   "source": [
    "ranges = [(11.4, 12.6), (0.5, 1.4)] # PRNG 33\n",
    "fig = corner.corner(inf_data_wn, bins=40, range=ranges, \n",
    "                    color=\"k\", var_names=[\"log_mh\", \"log_c\"], smooth=1.0, smooth1d=1.0\n",
    "                   )\n",
    "fig = corner.corner(inf_data, bins=40, range=ranges, \n",
    "                    color=\"C0\", var_names=[\"log_mh\", \"log_c\"], smooth=1.0, smooth1d=1.0,\n",
    "                    labels=[\"$\\log\\,M_h$\", \"$\\log\\,c$\"],\n",
    "                    truths=[params['log_mh'], params['log_c']], truth_color='grey',\n",
    "                    fig=fig)\n",
    "\n",
    "ax = fig.axes[1]\n",
    "key_tr = matplotlib.lines.Line2D([], [], color='grey', linestyle='-', marker='s', label='truth')\n",
    "key_nn = matplotlib.lines.Line2D([], [], color='k',    linestyle='-', label='independent data')\n",
    "key_gp = matplotlib.lines.Line2D([], [], color='C0',   linestyle='-', label='correlated data')\n",
    "ax.legend(loc='upper right', handles=[key_tr, key_nn, key_gp])\n"
   ]
  },
  {
   "cell_type": "code",
   "execution_count": null,
   "id": "daba7f9d",
   "metadata": {},
   "outputs": [],
   "source": []
  },
  {
   "cell_type": "code",
   "execution_count": null,
   "id": "15aa10e2",
   "metadata": {},
   "outputs": [],
   "source": []
  },
  {
   "cell_type": "code",
   "execution_count": 121,
   "id": "51d6998e",
   "metadata": {},
   "outputs": [
    {
     "data": {
      "image/png": "[encoded data removed]",
      "text/plain": [
       "<Figure size 396x396 with 4 Axes>"
      ]
     },
     "metadata": {
      "needs_background": "light"
     },
     "output_type": "display_data"
    }
   ],
   "source": [
    "ranges = [(11, 13.5), (0.3, 1.3)] # PRNG 27\n",
    "fig = corner.corner(inf_data_wn, bins=30, range=ranges, \n",
    "                    color=\"C1\", var_names=[\"log_mh\", \"log_c\"], smooth=1.0, smooth1d=1.0\n",
    "                   )\n",
    "fig = corner.corner(inf_data, bins=30, range=ranges, \n",
    "                    color=\"C0\", var_names=[\"log_mh\", \"log_c\"], smooth=1.0, smooth1d=1.0,\n",
    "                    labels=[\"$\\log\\,M_h$\", \"$\\log\\,c$\"],\n",
    "                    truths=[params['log_mh'], params['log_c']], truth_color='grey',\n",
    "                    fig=fig)"
   ]
  },
  {
   "cell_type": "code",
   "execution_count": null,
   "id": "afcad15a",
   "metadata": {},
   "outputs": [],
   "source": []
  },
  {
   "cell_type": "code",
   "execution_count": null,
   "id": "86618172",
   "metadata": {},
   "outputs": [],
   "source": []
  }
 ],
 "metadata": {
  "kernelspec": {
   "display_name": "Python 3 (ipykernel)",
   "language": "python",
   "name": "python3"
  },
  "language_info": {
   "codemirror_mode": {
    "name": "ipython",
    "version": 3
   },
   "file_extension": ".py",
   "mimetype": "text/x-python",
   "name": "python",
   "nbconvert_exporter": "python",
   "pygments_lexer": "ipython3",
   "version": "3.7.13"
  }
 },
 "nbformat": 4,
 "nbformat_minor": 5
}
